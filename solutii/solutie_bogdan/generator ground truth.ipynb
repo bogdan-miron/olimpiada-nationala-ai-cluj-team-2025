{
 "cells": [
  {
   "cell_type": "code",
   "execution_count": 15,
   "id": "1edb99f7-2360-4704-b130-eacc5602273c",
   "metadata": {},
   "outputs": [],
   "source": [
    "import pandas as pd\n",
    "from PIL import Image\n",
    "import os\n",
    "import numpy as np\n",
    "\n",
    "def image_to_rle(image_path):\n",
    "    image = Image.open(image_path)\n",
    "    side, side = image.size\n",
    "    arr = np.array(image)\n",
    "    red = arr[:, :].reshape(side * side, order = 'F')\n",
    "    # green = arr[:, :, 1].reshape(side * side, order = 'F')\n",
    "    # blue = arr[:, :, 2].reshape(side * side, order = 'F')\n",
    "    \n",
    "    start = 0\n",
    "    length = 0\n",
    "    res = []\n",
    "    for i in range(side * side):\n",
    "        if red[i] == 255: #  and green[i] == 255 and blue[i] == 255:\n",
    "            if length == 0:\n",
    "                start = i + 1\n",
    "            length = length + 1\n",
    "        else:\n",
    "            if length > 0:\n",
    "                res.append(start)\n",
    "                res.append(length)\n",
    "            length = 0\n",
    "    if length > 0:\n",
    "        res.append(start)\n",
    "        res.append(length)\n",
    "        \n",
    "    return res\n",
    "\n",
    "image_names = []\n",
    "ground_truth = []\n",
    "\n",
    "path_prefix = 'groundtruthhotspot/'\n",
    "for subtask_id in range(1, 5):\n",
    "    dir_path = path_prefix + 'predictions' + str(subtask_id)\n",
    "    for image_name in os.listdir(dir_path):\n",
    "        image_names.append(image_name)\n",
    "        ground_truth.append(image_to_rle(dir_path + '/' + image_name))"
   ]
  },
  {
   "cell_type": "code",
   "execution_count": 16,
   "id": "43c700a5-c207-487b-b6be-a027a85ffd29",
   "metadata": {},
   "outputs": [],
   "source": [
    "df = pd.DataFrame({'subtaskID' : map(lambda x : 1 + int(x / 250), list(range(1000))),\n",
    "                   'datapointID' : image_names, \n",
    "                   'answer' : ground_truth})\n",
    "df.to_csv('ground_truth4.csv', index = False)"
   ]
  }
 ],
 "metadata": {
  "kernelspec": {
   "display_name": "Python 3",
   "language": "python",
   "name": "python3"
  },
  "language_info": {
   "codemirror_mode": {
    "name": "ipython",
    "version": 3
   },
   "file_extension": ".py",
   "mimetype": "text/x-python",
   "name": "python",
   "nbconvert_exporter": "python",
   "pygments_lexer": "ipython3",
   "version": "3.12.2"
  }
 },
 "nbformat": 4,
 "nbformat_minor": 5
}
