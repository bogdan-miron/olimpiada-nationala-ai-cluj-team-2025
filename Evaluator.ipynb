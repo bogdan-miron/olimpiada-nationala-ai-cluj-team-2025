{
 "cells": [
  {
   "cell_type": "code",
   "execution_count": null,
   "metadata": {},
   "outputs": [],
   "source": [
    "import os\n",
    "import cv2\n",
    "import pandas as pd\n",
    "from os import listdir\n",
    "from os.path import isfile, join\n",
    "from sklearn.metrics import f1_score\n",
    "GT_FOLDER = 'groundTruth/'\n",
    "SOLUTIONS_FOLDER = 'solutii/'\n",
    "\n",
    "candidate_results = []\n",
    "candidate_folders = [x[0] for x in os.walk(SOLUTIONS_FOLDER)]\n",
    "candidate_folders.remove(SOLUTIONS_FOLDER)\n",
    "for candidate_folder in candidate_folders:\n",
    "    prediction_folder = candidate_folder + 'predictions/'\n",
    "    pred_files = [f for f in listdir(prediction_folder) if isfile(join(prediction_folder, f))]\n",
    "    gt_files = [f for f in listdir(GT_FOLDER) if isfile(join(GT_FOLDER, f))]\n",
    "    candidate_scores = []\n",
    "    for pred_file, gt_file in zip(pred_files, gt_files):\n",
    "        pred = cv2.imread(pred_file, cv2.IMREAD_GRAYSCALE)\n",
    "        gt = cv2.imread(gt_file, cv2.IMREAD_GRAYSCALE)\n",
    "\n",
    "        if pred is None or gt is None:\n",
    "            score = 0 \n",
    "\n",
    "        elif pred.shape != gt.shape:\n",
    "            score = 0\n",
    "        \n",
    "        else:\n",
    "\n",
    "            # Flatten to 1D for metric calculation\n",
    "            pred_flat = pred.flatten()\n",
    "            gt_flat = gt.flatten()\n",
    "\n",
    "            # Compute F1-score\n",
    "            score = f1_score(gt_flat, pred_flat)\n",
    "\n",
    "        candidate_scores.append(score)\n",
    "\n",
    "    total_score = sum(candidate_scores)\n",
    "    candidate_results.append({'Name' : candidate_folder, 'Detailed': candidate_scores, 'Total' : total_score})\n",
    "\n",
    "df = pd.DataFrame(candidate_results)\n",
    "df = df.sort_values(by=\"Total\", ascending=False)  # Sort in descending order (highest score first)\n",
    "df.to_csv(\"rezultate.csv\", index=False)"
   ]
  }
 ],
 "metadata": {
  "language_info": {
   "name": "python"
  }
 },
 "nbformat": 4,
 "nbformat_minor": 2
}
