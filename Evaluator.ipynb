{
 "cells": [
  {
   "cell_type": "code",
   "execution_count": 15,
   "metadata": {},
   "outputs": [
    {
     "name": "stdout",
     "output_type": "stream",
     "text": [
      "image_00000.png image_00000.png\n"
     ]
    }
   ],
   "source": [
    "import os\n",
    "import cv2\n",
    "import pandas as pd\n",
    "from os import listdir\n",
    "from os.path import isfile, join\n",
    "from sklearn.metrics import f1_score\n",
    "GT_FOLDER = 'groundTruth/'\n",
    "SOLUTIONS_FOLDER = 'solutii/'\n",
    "\n",
    "candidate_results = []\n",
    "candidate_folders = next(os.walk(SOLUTIONS_FOLDER))[1]\n",
    "candidate_folders = [os.path.join(SOLUTIONS_FOLDER, folder) for folder in candidate_folders]\n",
    "# candidate_folders = [x[0] for x in os.walk(SOLUTIONS_FOLDER)]\n",
    "# candidate_folders.remove(SOLUTIONS_FOLDER)\n",
    "for candidate_folder in candidate_folders:\n",
    "    prediction_folder = os.path.join(candidate_folder, 'predictions/')\n",
    "    pred_files = [f for f in listdir(prediction_folder) if isfile(join(prediction_folder, f))]\n",
    "    gt_files = [f for f in listdir(GT_FOLDER) if isfile(join(GT_FOLDER, f))]\n",
    "    candidate_scores = []\n",
    "    for pred_file, gt_file in zip(pred_files, gt_files):\n",
    "        pred = cv2.imread(prediction_folder + pred_file, cv2.IMREAD_GRAYSCALE)\n",
    "        gt = cv2.imread(GT_FOLDER + gt_file, cv2.IMREAD_GRAYSCALE)\n",
    "        print(pred_file, gt_file)\n",
    "        if pred is None or gt is None:\n",
    "            score = 0 \n",
    "\n",
    "        elif pred.shape != gt.shape:\n",
    "            score = 0\n",
    "        \n",
    "        else:\n",
    "\n",
    "            # Flatten to 1D for metric calculation\n",
    "            pred_flat = pred.flatten() // 255\n",
    "            gt_flat = gt.flatten() // 255\n",
    "            # Compute F1-score\n",
    "            score = f1_score(gt_flat, pred_flat)\n",
    "\n",
    "        candidate_scores.append(score)\n",
    "\n",
    "    total_score = sum(candidate_scores)\n",
    "    candidate_results.append({'Name' : candidate_folder, 'Detailed': candidate_scores, 'Total' : total_score})\n",
    "\n",
    "df = pd.DataFrame(candidate_results)\n",
    "df = df.sort_values(by=\"Total\", ascending=False)  # Sort in descending order (highest score first)\n",
    "df.to_csv(\"rezultate.csv\", index=False)"
   ]
  }
 ],
 "metadata": {
  "kernelspec": {
   "display_name": "Python 3",
   "language": "python",
   "name": "python3"
  },
  "language_info": {
   "codemirror_mode": {
    "name": "ipython",
    "version": 3
   },
   "file_extension": ".py",
   "mimetype": "text/x-python",
   "name": "python",
   "nbconvert_exporter": "python",
   "pygments_lexer": "ipython3",
   "version": "3.12.2"
  }
 },
 "nbformat": 4,
 "nbformat_minor": 2
}
