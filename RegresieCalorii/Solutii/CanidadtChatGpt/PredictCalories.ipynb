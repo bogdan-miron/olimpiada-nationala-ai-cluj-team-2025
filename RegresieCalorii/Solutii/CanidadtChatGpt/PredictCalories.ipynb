{
 "cells": [
  {
   "cell_type": "markdown",
   "id": "c6b830431a02123b",
   "metadata": {},
   "source": [
    "# Solution for the Predict Prices task"
   ]
  },
  {
   "cell_type": "markdown",
   "id": "45b5b6003c3c481b",
   "metadata": {},
   "source": [
    "### Task 1: Load the dataset and calculate the average price and estimated owners, and output to a file named output_1.csv"
   ]
  },
  {
   "cell_type": "code",
   "execution_count": 1,
   "id": "48f34d0d52e40143",
   "metadata": {
    "ExecuteTime": {
     "end_time": "2025-02-06T17:31:27.067807Z",
     "start_time": "2025-02-06T17:31:26.954225Z"
    }
   },
   "outputs": [],
   "source": [
    "# Import necessary libraries\n",
    "import pandas as pd\n",
    "import matplotlib.pyplot as plt\n",
    "import seaborn as sb\n",
    "from typing import Any, Tuple\n",
    "from sklearn.model_selection import train_test_split\n",
    "from sklearn.ensemble import RandomForestRegressor, GradientBoostingRegressor\n",
    "from sklearn.metrics import mean_absolute_error\n",
    "import csv \n",
    "import joblib\n",
    "from dateutil import parser"
   ]
  },
  {
   "cell_type": "code",
   "execution_count": null,
   "id": "ed26816e",
   "metadata": {},
   "outputs": [
    {
     "name": "stdout",
     "output_type": "stream",
     "text": [
      "9000\n",
      "9000\n",
      "336\n",
      "336\n"
     ]
    },
    {
     "name": "stderr",
     "output_type": "stream",
     "text": [
      "<>:5: SyntaxWarning: invalid escape sequence '\\.'\n",
      "<>:5: SyntaxWarning: invalid escape sequence '\\.'\n",
      "C:\\Users\\Mano\\AppData\\Local\\Temp\\ipykernel_23328\\4027099880.py:5: SyntaxWarning: invalid escape sequence '\\.'\n",
      "  file_path = \"..\\..\\Dataset si evaluator\\Dataset\\dataset_train.csv\"\n"
     ]
    },
    {
     "data": {
      "text/plain": [
       "'output_0.csv'"
      ]
     },
     "execution_count": 13,
     "metadata": {},
     "output_type": "execute_result"
    }
   ],
   "source": [
    "import pandas as pd\n",
    "import os\n",
    "\n",
    "# Încărcăm setul de date de antrenare\n",
    "file_path = \"..\\..\\Dataset si evaluator\\Dataset\\dataset_train.csv\"\n",
    "df = pd.read_csv(file_path)\n",
    "\n",
    "# Calculăm valorile cerute\n",
    "samples = len(df)\n",
    "no_males = df[df[\"Gender\"] == \"Male\"].shape[0]\n",
    "average_duration = round(df[\"Duration\"].mean(), 2)\n",
    "senior_users = df[df[\"Age\"] >= 75][\"User_ID\"].nunique()\n",
    "\n",
    "# Creăm DataFrame-ul rezultat\n",
    "output_0 = pd.DataFrame([[samples, no_males, average_duration, senior_users]],\n",
    "                        columns=[\"Samples\", \"No. Males\", \"Average Duration\", \"SeniorUsers\"])\n",
    "\n",
    "# Salvăm rezultatul în fișier\n",
    "output_0_path = \"output_0.csv\"\n",
    "output_0.to_csv(output_0_path, index=False)\n",
    "\n",
    "# Returnăm calea fișierului generat\n",
    "output_0_path"
   ]
  },
  {
   "cell_type": "markdown",
   "id": "3b4205fa",
   "metadata": {},
   "source": [
    "### Dataset Analysis"
   ]
  },
  {
   "cell_type": "markdown",
   "id": "6395a4a12726a54c",
   "metadata": {},
   "source": [
    "### Train your model - Play as you like from here to get the best AI model ####"
   ]
  },
  {
   "cell_type": "code",
   "execution_count": 14,
   "id": "672e36b39483434d",
   "metadata": {
    "ExecuteTime": {
     "end_time": "2025-02-06T17:31:28.971791Z",
     "start_time": "2025-02-06T17:31:27.848971Z"
    }
   },
   "outputs": [
    {
     "name": "stderr",
     "output_type": "stream",
     "text": [
      "<>:8: SyntaxWarning: invalid escape sequence '\\.'\n",
      "<>:8: SyntaxWarning: invalid escape sequence '\\.'\n",
      "C:\\Users\\Mano\\AppData\\Local\\Temp\\ipykernel_23328\\3377933901.py:8: SyntaxWarning: invalid escape sequence '\\.'\n",
      "  df = pd.read_csv(\"..\\..\\Dataset si evaluator\\Dataset\\dataset_train.csv\")\n"
     ]
    },
    {
     "name": "stdout",
     "output_type": "stream",
     "text": [
      "MAE: 2.374516666666666\n"
     ]
    }
   ],
   "source": [
    "import pandas as pd\n",
    "from sklearn.model_selection import train_test_split\n",
    "from sklearn.preprocessing import StandardScaler\n",
    "from sklearn.ensemble import RandomForestRegressor\n",
    "from sklearn.metrics import mean_absolute_error\n",
    "\n",
    "# Încărcăm setul de date\n",
    "df = pd.read_csv(\"..\\..\\Dataset si evaluator\\Dataset\\dataset_train.csv\")\n",
    "\n",
    "# Convertim 'Gender' în format numeric (Male = 1, Female = 0)\n",
    "df[\"Gender\"] = df[\"Gender\"].map({\"male\": 1, \"female\": 0})\n",
    "\n",
    "# Eliminăm coloana 'User_ID'\n",
    "df = df.drop(columns=[\"User_ID\"])\n",
    "\n",
    "# Separăm caracteristicile (X) și ținta (y)\n",
    "X = df.drop(columns=[\"Calories\"])\n",
    "y = df[\"Calories\"]\n",
    "\n",
    "# Împărțim datele în set de antrenament și test\n",
    "X_train, X_test, y_train, y_test = train_test_split(X, y, test_size=0.2, random_state=42)\n",
    "\n",
    "# Standardizăm caracteristicile\n",
    "scaler = StandardScaler()\n",
    "X_train_scaled = scaler.fit_transform(X_train)\n",
    "X_test_scaled = scaler.transform(X_test)\n",
    "\n",
    "# Antrenăm modelul Random Forest\n",
    "model = RandomForestRegressor(n_estimators=100, random_state=42)\n",
    "model.fit(X_train_scaled, y_train)\n",
    "\n",
    "# Facem predicții pe setul de test\n",
    "y_pred = model.predict(X_test_scaled)\n",
    "\n",
    "# Calculăm MAE (Mean Absolute Error)\n",
    "mae = mean_absolute_error(y_test, y_pred)\n",
    "print(\"MAE:\", mae)"
   ]
  },
  {
   "cell_type": "markdown",
   "id": "50cc77b429643cf0",
   "metadata": {},
   "source": [
    "### Task 2: Load the model and the evaluation dataset, and make predictions, and output to a file named output_1.csv"
   ]
  },
  {
   "cell_type": "code",
   "execution_count": 16,
   "id": "1423a41cf6099a81",
   "metadata": {
    "ExecuteTime": {
     "end_time": "2025-02-06T17:31:30.909773Z",
     "start_time": "2025-02-06T17:31:30.806422Z"
    }
   },
   "outputs": [],
   "source": [
    "# Încărcăm setul de date\n",
    "df = pd.read_csv(\"../../Dataset si evaluator/Dataset/task1_dataset_eval.csv\")\n",
    "\n",
    "# Convertim 'Gender' în format numeric (Male = 1, Female = 0)\n",
    "df[\"Gender\"] = df[\"Gender\"].map({\"male\": 1, \"female\": 0})\n",
    "\n",
    "# Eliminăm coloana 'User_ID'\n",
    "df = df.drop(columns=[\"User_ID\"])\n",
    "\n",
    "# Separăm caracteristicile (X) și ținta (y)\n",
    "X_test = df \n",
    "\n",
    "X_test = scaler.transform(X_test)\n",
    "y_test = model.predict(X_test_scaled)\n",
    "\n",
    "# Save the predictions to a file named output_2.csv with a single column of predictions\n",
    "# no pandas \n",
    "with open(\"output_1.csv\", \"w\") as file:\n",
    "    # Write the header\n",
    "    file.write(\"Calories\\n\")\n",
    "    # Write the predictions\n",
    "    for pred in y_test:\n",
    "        file.write(str(pred) + \"\\n\")"
   ]
  },
  {
   "cell_type": "markdown",
   "id": "ef1c41ff",
   "metadata": {},
   "source": [
    "### Task 3 - Create model for the handball man team"
   ]
  },
  {
   "cell_type": "code",
   "execution_count": 21,
   "id": "86685c9ec59054ef",
   "metadata": {},
   "outputs": [
    {
     "name": "stderr",
     "output_type": "stream",
     "text": [
      "<>:7: SyntaxWarning: invalid escape sequence '\\.'\n",
      "<>:7: SyntaxWarning: invalid escape sequence '\\.'\n",
      "C:\\Users\\Mano\\AppData\\Local\\Temp\\ipykernel_23328\\361391539.py:7: SyntaxWarning: invalid escape sequence '\\.'\n",
      "  train_df = pd.read_csv(\"..\\..\\Dataset si evaluator\\Dataset\\dataset_train.csv\")\n"
     ]
    }
   ],
   "source": [
    "import pandas as pd\n",
    "from sklearn.model_selection import train_test_split\n",
    "from sklearn.preprocessing import StandardScaler\n",
    "from sklearn.ensemble import RandomForestRegressor\n",
    "\n",
    "# Încărcăm setul de date de antrenament\n",
    "train_df = pd.read_csv(\"..\\..\\Dataset si evaluator\\Dataset\\dataset_train.csv\")\n",
    "\n",
    "train_df = train_df.drop(columns=[\"User_ID\", \"Gender\"])\n",
    "\n",
    "# Separăm caracteristicile (X) și variabila țintă (y)\n",
    "X = train_df.drop(columns=[\"Calories\"])\n",
    "y = train_df[\"Calories\"]\n",
    "\n",
    "# Împărțim datele în set de antrenament și test\n",
    "X_train, X_test, y_train, y_test = train_test_split(X, y, test_size=0.2, random_state=42)\n",
    "\n",
    "# Standardizăm datele\n",
    "scaler = StandardScaler()\n",
    "X_train_scaled = scaler.fit_transform(X_train)\n",
    "\n",
    "# Antrenăm modelul Random Forest fără 'Gender'\n",
    "model = RandomForestRegressor(n_estimators=100, random_state=42)\n",
    "model.fit(X_train_scaled, y_train)\n",
    "\n",
    "# Încărcăm setul de test (task2_dataset_eval.csv) și eliminăm 'User_ID'\n",
    "task2_df = pd.read_csv(\"../../Dataset si evaluator/Dataset/task2_dataset_eval.csv\").drop(columns=[\"User_ID\"])\n",
    "\n",
    "# Standardizăm datele de test\n",
    "task2_scaled = scaler.transform(task2_df)\n",
    "\n",
    "# Facem predicțiile\n",
    "task2_predictions = model.predict(task2_scaled)\n",
    "\n",
    "# Salvăm rezultatele în output_2.csv\n",
    "output_2 = pd.DataFrame(task2_predictions, columns=[\"Calories\"])\n",
    "output_2.to_csv(\"output_2.csv\", index=False)"
   ]
  }
 ],
 "metadata": {
  "kernelspec": {
   "display_name": "Python 3",
   "language": "python",
   "name": "python3"
  },
  "language_info": {
   "codemirror_mode": {
    "name": "ipython",
    "version": 3
   },
   "file_extension": ".py",
   "mimetype": "text/x-python",
   "name": "python",
   "nbconvert_exporter": "python",
   "pygments_lexer": "ipython3",
   "version": "3.12.2"
  }
 },
 "nbformat": 4,
 "nbformat_minor": 5
}
